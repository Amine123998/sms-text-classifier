{
  "cells": [
    {
      "cell_type": "code",
      "execution_count": null,
      "metadata": {
        "id": "8RZOuS9LWQvv"
      },
      "outputs": [],
      "source": [
        "# import libraries\n",
        "try:\n",
        "  # %tensorflow_version only exists in Colab.\n",
        "  !pip install tf-nightly\n",
        "except Exception:\n",
        "  pass\n",
        "import tensorflow as tf\n",
        "import pandas as pd\n",
        "from tensorflow import keras\n",
        "!pip install tensorflow-datasets\n",
        "import tensorflow_datasets as tfds\n",
        "import numpy as np\n",
        "import matplotlib.pyplot as plt\n",
        "from tensorflow.keras.preprocessing.text import Tokenizer\n",
        "from tensorflow.keras.preprocessing.sequence import pad_sequences\n",
        "from tensorflow.keras.models import Sequential\n",
        "from tensorflow.keras.layers import Embedding, LSTM, Dense\n",
        "print(tf.__version__)"
      ]
    },
    {
      "cell_type": "code",
      "source": [
        "from tensorflow.keras.preprocessing.sequence import pad_sequences\n",
        "from sklearn.preprocessing import LabelEncoder"
      ],
      "metadata": {
        "id": "3ff55-yu9m2K"
      },
      "execution_count": null,
      "outputs": []
    },
    {
      "cell_type": "code",
      "execution_count": null,
      "metadata": {
        "id": "lMHwYXHXCar3"
      },
      "outputs": [],
      "source": [
        "# get data files\n",
        "!wget https://cdn.freecodecamp.org/project-data/sms/train-data.tsv\n",
        "!wget https://cdn.freecodecamp.org/project-data/sms/valid-data.tsv\n",
        "\n",
        "train_file_path = \"train-data.tsv\"\n",
        "test_file_path = \"valid-data.tsv\""
      ]
    },
    {
      "cell_type": "markdown",
      "source": [
        "Data Preprocessing: First, you need to preprocess the data to prepare it for training the model. Load the data from the TSV files using pandas and split it into input features (messages) and target labels (ham/spam)."
      ],
      "metadata": {
        "id": "xpkZ_pHSnEKT"
      }
    },
    {
      "cell_type": "code",
      "execution_count": null,
      "metadata": {
        "id": "g_h508FEClxO"
      },
      "outputs": [],
      "source": [
        "train_data = pd.read_csv('train-data.tsv', sep='\\t')\n",
        "test_data = pd.read_csv('valid-data.tsv', sep='\\t')\n",
        "\n",
        "\n",
        "\n",
        "train_messages = train_data.iloc[:, 1]  # Assuming the message column is at index 1\n",
        "train_labels = train_data.iloc[:, 0]  # Assuming the label column is at index 0\n",
        "\n",
        "test_messages = test_data.iloc[:, 1]  # Assuming the message column is at index 1\n",
        "test_labels = test_data.iloc[:, 0]  # Assuming the label column is at index 0\n"
      ]
    },
    {
      "cell_type": "markdown",
      "source": [
        "Text Encoding: Convert the text messages into numerical representations that can be processed by the machine learning model. You can use the Tokenizer class from Keras to tokenize the messages and create word-to-index mappings."
      ],
      "metadata": {
        "id": "77cbQ1bsnJRn"
      }
    },
    {
      "cell_type": "code",
      "execution_count": null,
      "metadata": {
        "id": "zOMKywn4zReN"
      },
      "outputs": [],
      "source": [
        "num_words = 10000  # Adjust this value based on your data and vocabulary size\n",
        "\n",
        "# Create a tokenizer and fit it on the training messages\n",
        "tokenizer = Tokenizer(num_words=num_words)\n",
        "tokenizer.fit_on_texts(train_messages)\n",
        "\n",
        "# Convert the training and testing messages into sequences of integers\n",
        "train_sequences = tokenizer.texts_to_sequences(train_messages)\n",
        "test_sequences = tokenizer.texts_to_sequences(test_messages)"
      ]
    },
    {
      "cell_type": "markdown",
      "source": [
        "Padding Sequences: Since messages can have varying lengths, you need to pad the sequences to make them of equal length. This is important for feeding the data into the model."
      ],
      "metadata": {
        "id": "YEIlngmd4FwY"
      }
    },
    {
      "cell_type": "code",
      "source": [
        "# Pad the sequences to a maximum length\n",
        "max_length = 100  # choose an appropriate maximum length\n",
        "train_sequences = pad_sequences(train_sequences, maxlen=max_length)\n",
        "test_sequences = pad_sequences(test_sequences, maxlen=max_length)"
      ],
      "metadata": {
        "id": "XNxIftAv4XZn"
      },
      "execution_count": null,
      "outputs": []
    },
    {
      "cell_type": "markdown",
      "source": [
        "Model Architecture: Now, define the architecture of your machine learning model. You can use a combination of layers like Embedding, LSTM, and Dense to build a sequential model."
      ],
      "metadata": {
        "id": "0NJy8k5w4c2u"
      }
    },
    {
      "cell_type": "code",
      "source": [
        "embedding_dim = 100  # Define the dimensionality of the embedding space\n",
        "\n",
        "# Define the model architecture\n",
        "model = Sequential()\n",
        "model.add(Embedding(input_dim=num_words, output_dim=embedding_dim, input_length=max_length))\n",
        "model.add(LSTM(units=64))\n",
        "model.add(Dense(units=1, activation='sigmoid'))"
      ],
      "metadata": {
        "id": "8JewnFia4iRz"
      },
      "execution_count": null,
      "outputs": []
    },
    {
      "cell_type": "code",
      "source": [
        "# Convert train_sequences to padded sequences\n",
        "train_sequences = pad_sequences(train_sequences, maxlen=max_length)\n",
        "\n",
        "# Convert train_labels to a numpy array\n",
        "train_labels = np.array(train_labels)"
      ],
      "metadata": {
        "id": "Uhb9NQ9w9Zmw"
      },
      "execution_count": null,
      "outputs": []
    },
    {
      "cell_type": "markdown",
      "source": [
        "Compile and Train the Model: Compile the model by specifying the loss function, optimizer, and evaluation metrics. Then, train the model on the training data."
      ],
      "metadata": {
        "id": "xL2UL7Ix5m8c"
      }
    },
    {
      "cell_type": "code",
      "source": [
        "model.compile(loss='binary_crossentropy', optimizer='adam', metrics=['accuracy'])\n",
        "\n",
        "# Encode the labels as numeric values\n",
        "label_encoder = LabelEncoder()\n",
        "train_labels = label_encoder.fit_transform(train_labels)\n",
        "\n",
        "model.fit(train_sequences, train_labels, epochs=10, batch_size=64)"
      ],
      "metadata": {
        "id": "qJ-Eape15rOZ"
      },
      "execution_count": null,
      "outputs": []
    },
    {
      "cell_type": "code",
      "execution_count": null,
      "metadata": {
        "id": "J9tD9yACG6M9"
      },
      "outputs": [],
      "source": [
        "# function to predict messages based on model\n",
        "# (should return list containing prediction and label, ex. [0.008318834938108921, 'ham'])\n",
        "def predict_message(message):\n",
        "    # Preprocess the message\n",
        "    sequence = tokenizer.texts_to_sequences([message])\n",
        "    sequence = pad_sequences(sequence, maxlen=max_length)\n",
        "\n",
        "    # Make predictions\n",
        "    probability = model.predict(sequence)[0][0]\n",
        "    if probability < 0.5:\n",
        "        label = 'ham'\n",
        "    else:\n",
        "        label = 'spam'\n",
        "\n",
        "    return [probability, label]"
      ]
    },
    {
      "cell_type": "code",
      "source": [
        "message = \"Hello, you've won a free vacation! Claim your prize now.\"\n",
        "prediction = predict_message(message)\n",
        "print(prediction)"
      ],
      "metadata": {
        "id": "zX7PLB-j__lq"
      },
      "execution_count": null,
      "outputs": []
    },
    {
      "cell_type": "code",
      "execution_count": null,
      "metadata": {
        "id": "Dxotov85SjsC"
      },
      "outputs": [],
      "source": [
        "# Run this cell to test your function and model. Do not modify contents.\n",
        "def test_predictions():\n",
        "  test_messages = [\"how are you doing today\",\n",
        "                   \"sale today! to stop texts call 98912460324\",\n",
        "                   \"i dont want to go. can we try it a different day? available sat\",\n",
        "                   \"our new mobile video service is live. just install on your phone to start watching.\",\n",
        "                   \"you have won £1000 cash! call to claim your prize.\",\n",
        "                   \"i'll bring it tomorrow. don't forget the milk.\",\n",
        "                   \"wow, is your arm alright. that happened to me one time too\"\n",
        "                  ]\n",
        "\n",
        "  test_answers = [\"ham\", \"spam\", \"ham\", \"spam\", \"spam\", \"ham\", \"ham\"]\n",
        "  passed = True\n",
        "\n",
        "  for msg, ans in zip(test_messages, test_answers):\n",
        "    prediction = predict_message(msg)\n",
        "    if prediction[1] != ans:\n",
        "      passed = False\n",
        "\n",
        "  if passed:\n",
        "    print(\"You passed the challenge. Great job!\")\n",
        "  else:\n",
        "    print(\"You haven't passed yet. Keep trying.\")\n",
        "\n",
        "test_predictions()\n"
      ]
    }
  ],
  "metadata": {
    "colab": {
      "private_outputs": true,
      "provenance": []
    },
    "kernelspec": {
      "display_name": "Python 3",
      "name": "python3"
    },
    "language_info": {}
  },
  "nbformat": 4,
  "nbformat_minor": 0
}